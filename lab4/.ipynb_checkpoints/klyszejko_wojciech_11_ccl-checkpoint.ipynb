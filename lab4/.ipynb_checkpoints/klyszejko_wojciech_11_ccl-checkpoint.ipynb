{
 "cells": [
  {
   "cell_type": "markdown",
   "metadata": {
    "collapsed": true,
    "id": "aZFMYP9qNxRB",
    "pycharm": {
     "name": "#%% md\n"
    }
   },
   "source": [
    "# Indeksacja. Prosta klasyfikacja obiektów.\n",
    "\n",
    "## Cel ćwiczenia\n",
    "- zapoznanie z dwuprzebiegowym algorytmem indeksacji (ang. *connected component labelling*):\n",
    "- zapoznanie z prostą klasyfikacją obiektów z wykorzystaniem współczynników kształtu.\n",
    "\n",
    "## Indeksacja\n",
    "\n",
    "Większość dotychczas poznanych i wykorzystywanych algorytmów przetwarzania obrazu wykonywała operacje na całym obrazie (lub co najwyżej dokonywany był podział obiekt/obiekty - tło. Np. różne metody segmentacji).\n",
    "Patrząc na poniższny rysunek człowiek widzi dwa kwadraty.\n",
    "\n",
    "![Dwa kwadraty, obraz binarny](https://raw.githubusercontent.com/vision-agh/poc_sw/master/13_CCL/2objects.png)\n",
    "\n",
    "Dla automatycznego systemu analizy i rozpoznawania obrazów przejście od etapu obiekty/tło do wyróżnienia dwóch kwadratów nie jest takie oczywiste i wymaga zastosowania jakieś formy indeksacji - czyli przypisania każdemu z pikseli uznanych za należące do obiektów (tu białych) jakieś etykiety (w naszym przypadku będą to dwie etykiety, ew. dodatkowa oznaczająca tło).\n",
    "\n",
    "W tej części ćwiczenia zaprezentowany zostanie tzw. dwuprzebiegowy algorytm indeksacji (ang. *two-pass connected component labelling*).\n",
    "Jego nazwa związana jest z koniecznością wykonania dwukrotnego odwiedzenia każdego z pikseli obrazu (dwie pętle/iteracje po obrazie).\n",
    "Istnieją również tzw. jednoprzebiegowe algorytmy indeksacji - por. zadnie domowe."
   ]
  },
  {
   "cell_type": "markdown",
   "metadata": {
    "id": "aKzF_KOMNxRG"
   },
   "source": [
    "## Opis algorytmu\n",
    "\n",
    "- Na wejściu mamy obraz po binaryzacji - zakładamy, że piksele białe ('1', '255') należą do obiektów, tło jest czarne.\n",
    "\n",
    "- W pierwszej iteracji obraz analizujemy linia po linii, od lewej do prawej, aż do napotkania pierwszego piksela o wartości różnej od '0'.\n",
    "  W tej sytuacji dokonujemy analizy otoczenia piksela:\n",
    "\n",
    "  ![Dwa kwadraty, obraz binarny](https://raw.githubusercontent.com/vision-agh/poc_sw/master/13_CCL/cclContext.png)\n",
    "\n",
    "  gdzie: **X**  rozważany piksel, **A,B,C,D** - sąsiedzi z otoczenia.\n",
    "  Uwaga. W przykładzie pokazano tzw. sąsiedztwo 8-elementowe.\n",
    "  Niekiedy stosuje się również wersję 4-elementową (praktycznie bardzo rzadko).\n",
    "  Wtedy analizie podlegałyby by tylko piksele **B** i **D**.\n",
    "\n",
    "- Możliwe są następujące przypadki dla otoczenia __A,B,C,D__:\n",
    "    - (a) wszystkie należą do tła __A,B,C,D == 0__.\n",
    "      Wtedy znaleziony piksel __X__ należy do nowego obiektu - nadajemy mu zatem etykietę __L+1__ __X = L+1}__ - przez __L__ rozumiemy poprzednią etykietę.\n",
    "\t  Uwaga. Przed uruchomieniem algorytmu __L__ należy zainicjować wartością  '1'\n",
    "    - (b) jeden lub więcej pikseli ma przypisaną aktualną etykietę **L**.\n",
    "\t  Wtedy rozważanemu pikselowi przypisujemy etykietę **L** - **X = L**.\n",
    "    - (c) w otoczeniu występują piksele o różnych etykietach np. *L1* i *L2*.\n",
    "\t  Wtedy przyjmuje się zasadę, że rozważanemu pikselowi *X* przypisuje się mniejszą z wartości *L1* i *L2* (*X = min(L1,L2)*)."
   ]
  },
  {
   "cell_type": "markdown",
   "metadata": {
    "id": "qViGOJOPNxRI"
   },
   "source": [
    "## Implementacja:\n",
    "\n",
    "- Wczytaj obraz *ccl1.png*, wyświetl go.\n",
    "  Po krótkiej analizie można zauważyć, że występuje na nim 7 odrębnych obiektów.\n",
    "      Ich ``wykrycie'' będzie naszym celem.\n",
    "\n",
    "- Na podstawie opisu algorytmu podanego wcześniej zaimplementuj tzw. pierwszą fazę indeksacji (ang. _first pass_):\n",
    "    - uwaga ogólna - algorytm jest dość prosty i łatwy w implementacji,\n",
    "    - obliczenia powinny odbywać się w pętlach `for` - iteracja po całym obrazku.\n",
    "      Warto pominąć pierwszy wiersz i pierwszą oraz ostatnią kolumnę, aby  wyeliminować problem z brakiem kontekstu (można np. założyć, że pikseli brzegowych nie ma, bo wcześniej wykonane zostało morfologiczne czyszczenie brzegu).\n",
    "    - dla przypomnienia iteracja po macierzy w Python - pętla zewnętrzna - wiersze, pętla wewnętrzna - kolumny – tj. pierwsza współrzędna to wiersz, a druga kolumna,\n",
    "    - rozmiar obrazka można odczytać np. poleceniem: `yy, xx = img.shape`\n",
    "      Przy takim przypisaniu `yy` oznacza liczbę wierszy (wysokość obrazka), a `xx` liczbę kolumn (szerokość obrazka),\n",
    "    - działania podejmujemy tylko w przypadku, gdy aktualnie analizowany piksel ma wartość różną od zera (gdy należy do obiektu),\n",
    "    - najtrudniejszym elementem jest analiza otoczenia piksela i stwierdzenie, z którym z przypadków (a), (b) czy (c) mamy do czynienia.\n",
    "      Problem można rozwiązać jakkolwiek (tylko dobrze), poniżej prezentowana jest jedna z możliwości.\n",
    "    - na początku tworzymy listę pikseli, które stanowią otoczenie piksela X (A, B, C, D) np: ` neighbours = [img[j - 1, i - 1], ... `\n",
    "    - następnie sprawdzamy czy nie występuje przypadek (a) - czyli czy suma sąsiadów nie wynosi 0 -  ` neigh_sum = np.sum(neighbours)`, jeżeli tak to `X = L` oraz `L=L+1`.\n",
    "      Uwaga proszę nie zapomnieć zainicjalizować etykiety `L` wartością 1.\n",
    "    - jeżeli `neigh_sum > 0`, mamy do czynienia z przypadkiem (b) lub (c).\n",
    "      Eliminujemy zerowe elementy z listy `sasiedzi` (`neighbours = filter(lambda x: x != 0, neighbours)`), a następnie znajdujemy minimum i maksimum nowej listy `neighbours` (funkcje `min` i `max` z _numpy_).\n",
    "    - z przypadkiem (b) będziemy mieli do czynienia, gdy *minimum = maksimum*.\n",
    "      Wtedy jako etykietę przypisujemy `X = minimum = maksimum`.\n",
    "      Gdy *minimum != maksimum* mamy przypadek (c).\n",
    "      Wtedy etykieta `X = minimum` - taką przyjmujemy konwencję,\n",
    "    - uwaga 1 - algorytm operuje (czyta punkty z otoczenia i zapisuje kolejne indeksy L) na tym samym obrazie wejściowym,\n",
    "    \\item uwaga 2 - przed implementacją metody obsługi konfliktów przypadki (b) i (c) działają tak samo, ale dla potrzeb dalszych kroków należy je rozróżnić,\n",
    "\n",
    "- Wykonaj indeksację obrazu za pomocą zaimplementowanego algorytmu.\n",
    "  Jeżeli wszystko zostało poprawnie napisane, to wynik powinien wyglądać mniej więcej tak jak na poniższym rysunku. Takie porównanie stanowić będzie pierwszy test poprawności implementacji algorytmu.\n",
    "\n",
    "  ![Wynik pierwszewgo etapu indekscacji](https://raw.githubusercontent.com/vision-agh/poc_sw/master/13_CCL/ccl1Result.png)\n",
    "\n",
    "\n"
   ]
  },
  {
   "cell_type": "code",
   "execution_count": 2,
   "metadata": {
    "id": "HEGBIsb4NxRK",
    "pycharm": {
     "name": "#%%\n"
    }
   },
   "outputs": [],
   "source": [
    "import os\n",
    "import cv2\n",
    "import matplotlib.pyplot as plt\n",
    "import numpy as np\n",
    "\n",
    "if not os.path.exists(\"ccl1.png\") :\n",
    "    !wget https://raw.githubusercontent.com/vision-agh/poc_sw/master/13_CCL/ccl1.png --no-check-certificate\n",
    "if not os.path.exists(\"shapes.png\") :\n",
    "    !wget https://raw.githubusercontent.com/vision-agh/poc_sw/master/13_CCL/shapes.png --no-check-certificate\n",
    "if not os.path.exists(\"shapesReal.png\") :\n",
    "    !wget https://raw.githubusercontent.com/vision-agh/poc_sw/master/13_CCL/shapesReal.png --no-check-certificate\n",
    "\n",
    "# Implementacja pierwszego kroku indeksacji\n"
   ]
  },
  {
   "cell_type": "code",
   "execution_count": 24,
   "metadata": {},
   "outputs": [
    {
     "data": {
      "text/plain": [
       "<matplotlib.image.AxesImage at 0x7fbe025f1610>"
      ]
     },
     "execution_count": 24,
     "metadata": {},
     "output_type": "execute_result"
    },
    {
     "data": {
      "image/png": "[encoded data removed]",
      "text/plain": [
       "<Figure size 432x288 with 1 Axes>"
      ]
     },
     "metadata": {
      "needs_background": "light"
     },
     "output_type": "display_data"
    }
   ],
   "source": [
    "ccl1_image = cv2.imread('ccl1.png', cv2.IMREAD_GRAYSCALE)\n",
    "plt.imshow(ccl1_image)"
   ]
  },
  {
   "cell_type": "code",
   "execution_count": 25,
   "metadata": {},
   "outputs": [],
   "source": [
    "def first_pass(image):\n",
    "    L = 1\n",
    "    for i in range(1, image.shape[0]):\n",
    "        for j in range(1, image.shape[1] - 1):\n",
    "            if image[i, j]:\n",
    "                neighbors = [image[i-1,j-1],image[i-1,j],image[i-1,j+1],image[i,j-1]]\n",
    "                \n",
    "                if np.sum(neighbors) == 0:\n",
    "                    #case a\n",
    "                    image[i, j] = L\n",
    "                    L += 1\n",
    "                else:\n",
    "                    #case b,c\n",
    "                    neighbors = list(filter(lambda x: x != 0, neighbors))\n",
    "                    n_min = np.min(neighbors)\n",
    "                    n_max = np.max(neighbors)\n",
    "                    \n",
    "                    if n_min == n_max:\n",
    "                        #case b\n",
    "                        image[i, j] = n_min\n",
    "                        \n",
    "                    else:\n",
    "                        #case c\n",
    "                        image[i, j] = n_min"
   ]
  },
  {
   "cell_type": "code",
   "execution_count": 26,
   "metadata": {},
   "outputs": [],
   "source": [
    "first_pass(ccl1_image)"
   ]
  },
  {
   "cell_type": "code",
   "execution_count": 29,
   "metadata": {},
   "outputs": [
    {
     "data": {
      "text/plain": [
       "<matplotlib.image.AxesImage at 0x7fbe00d6ca60>"
      ]
     },
     "execution_count": 29,
     "metadata": {},
     "output_type": "execute_result"
    },
    {
     "data": {
      "image/png": "[encoded data removed]",
      "text/plain": [
       "<Figure size 432x288 with 1 Axes>"
      ]
     },
     "metadata": {
      "needs_background": "light"
     },
     "output_type": "display_data"
    }
   ],
   "source": [
    "plt.imshow(ccl1_image)"
   ]
  },
  {
   "cell_type": "code",
   "execution_count": 30,
   "metadata": {},
   "outputs": [
    {
     "data": {
      "text/plain": [
       "array([ 0,  1,  2,  3,  4,  5,  6,  7,  8,  9, 10, 11, 12, 13, 14, 15, 16,\n",
       "       17, 18, 19, 20, 21, 22, 23, 24, 25, 26, 27, 28, 29, 30, 31, 32, 33,\n",
       "       34, 35, 36, 37, 38, 39, 40, 41, 42, 43, 44, 45, 46, 47, 48],\n",
       "      dtype=uint8)"
      ]
     },
     "execution_count": 30,
     "metadata": {},
     "output_type": "execute_result"
    }
   ],
   "source": [
    "np.unique(ccl1_image)"
   ]
  },
  {
   "cell_type": "markdown",
   "metadata": {
    "id": "s3_IRQU5NxRL"
   },
   "source": [
    "## Dyskusja:\n",
    "\n",
    "- W wyniku indeksacji uzyskujemy obraz, na którym wyróżnionych jest wiele obiektów (dokładnie 48) - a faktycznie jest tylko 7. Zastanówmy się z czego to wynika.\n",
    "\n",
    "- Zacznijmy od prostego przypadku przedstawionego na poniższym rysunku:\n",
    "\n",
    "  ![Indeksacja - przykład pierwszy](https://raw.githubusercontent.com/vision-agh/poc_sw/master/13_CCL/cclEx1.png)\n",
    "\n",
    "  Obraz analizowany jest linia po linii.\n",
    "  Zatem pierwszą etykietę dostanie słupek po prawej.\n",
    "  Późnej ten po lewej.\n",
    "  Postępując zgodnie z podanym algorytmem, w pewnym momencie (piksel wyróżniony na obrazku) dojdzie do sytuacji, w której w otoczeniu danego piksela znajdą się dwie różne etykiety (tu: '1' i '2').\n",
    "  Wtedy zgodnie z przyjętą metodologią przypisujemy niższą, tj. '1'.\n",
    "  Problem jaki powstaje, to brak zapamiętania informacji o tym, że wystąpił taki konflikt tj. że powinno nastąpić połączenie etykiet '1' i '2'.\n",
    "  Z tego powodu wynik działania algorytmu nie jest poprawny.\n",
    "\n",
    "-  Przeanalizujmy jeszcze jeden, bardziej złożony przykład z rysunku poniżej:\n",
    "   ![Indeksacja - przykład drugi](https://raw.githubusercontent.com/vision-agh/poc_sw/master/13_CCL/cclEx2.png)\n",
    "\n",
    "   Słupek po prawej dostaje indeks '1', a po lewej '2'.\n",
    "   W czwartej linii występuje piksel, który ma w swoim sąsiedztwie (A,B,C,D) same piksele czarne.\n",
    "   Dlatego dostaje etykietę '3'.\n",
    "   Jednak w następnym kroku okazuje się, że następuje konflikt '3' z '1' (połączenie).\n",
    "   W kolejnym wierszu występuje konflikt '2' i '3'.\n",
    "   Warto zwrócić uwagę, że w tym przypadku trzeba uniknąć sytuacji ''utraty'' informacji o połączeniu '1' z '2' przez '3'.\n",
    "\n",
    "- W literaturze zaproponowano wiele sposobów reprezentacji i rozwiązywania przedstawionych konfliktów:\n",
    "    - 2-krotki,\n",
    "    - n-krotki,\n",
    "    - tablica dwuwymiarowa,\n",
    "    - grafy + przeszukiwanie grafu wgłąb.\n",
    " W obecnym ćwiczeniu zastosujemy ostatnie podejście, które jest najprostsze do realizacji."
   ]
  },
  {
   "cell_type": "markdown",
   "metadata": {
    "id": "XJsT4SvaNxRM",
    "pycharm": {
     "name": "#%% md\n"
    }
   },
   "source": [
    "- Opisane konflikty możemy przechowywać w strukturze zbiorów rozłącznych (ang. _union find_).\n",
    "  Jest to zagadnienie znane z przedmiotu ''Algorytmy i struktury danych''.\n",
    "  Poniżej zostanie zaprezentowane krótkie przypomnienie.\n",
    "\n",
    "- Mamy $N$ obiektów. W naszym przypadku to jest $N$ etykiet.\n",
    "  Chcemy przechowywać informację o sytuacji, w której następuje łączenie etykiet tj. interesują nas zbiory obiektów połączonych.\n",
    "  Przykład trzech zbiorów zamieszczono na rysunku:\n",
    "  ![Przykład trzech połączonych zbiorów](https://raw.githubusercontent.com/vision-agh/poc_sw/master/13_CCL/unionFind1.png)\n",
    "\n",
    "- W ramach rozważanej struktury implementuje się dwie operacje:\n",
    "    - *find* (znajdź) - sprawdzenie czy dwa obiekty należą do tego samego zbioru połączonego,\n",
    "\t- *union* (połącz) - wprowadź połączenie pomiędzy dwoma obiektami.\n",
    "\n",
    "- Z punktu widzenia naszych potrzeb ważna jest funkcja _union_. Przykład dodania połączenia pomiędzy obiektami '2' a'3' pokazano na rysunku:\n",
    "\n",
    "  ![Przykład łączenia obiektów](https://raw.githubusercontent.com/vision-agh/poc_sw/master/13_CCL/unionFind2.png)\n",
    "\n",
    "- Strukturę oraz obie operacje można zaimplementować na kilka sposobów.\n",
    "  Zainteresowanych odsyłam do literatury przedmiotu.\n",
    "  My zastosujemy podejście _quick-union_.\n",
    "  Nie jest ono specjalnie wydajnie, ale bardzo proste do implementacji.\n",
    "\n",
    "- Nasz graf, w którym wierzchołki oznaczają etykiety, a krawędzie połączenia między etykietami, zapiszemy w tablicy jednowymiarowej `id[]` o rozmiarze $N$ (maksymalna liczba etykiet).\n",
    "  Interpretacja pola w tablicy: `id[i]` jest rodzicem `i`.\n",
    "  Korzeń elementu `i` jest dany jako: `id[id[id[...id[i]...]]]`.\n",
    "\n",
    "- Przeanalizujmy jak to działa na prostym przykładzie.\n",
    "  Mamy dany poetykietowany obraz:\n",
    "\n",
    "    ![Indeksacja - przykład 3](https://raw.githubusercontent.com/vision-agh/poc_sw/master/13_CCL/cclEx3.png)\n",
    "\n",
    "  Występuje na nim pięć konfliktów oznaczonych A, B, C, D i E  (uwaga w trakcie działania algorytmu pojawią się właśnie w takiej kolejności).\n",
    "\n",
    "- Sytuację wyjściową opisuje poniższy rysunek:\n",
    "   ![Indeksacja - przykład 3](https://raw.githubusercontent.com/vision-agh/poc_sw/master/13_CCL/cclEx3_union1.png)\n",
    "\n",
    "   Tablica `id` wypełniona jest kolejnymi indeksami.\n",
    "\n",
    "- W algorytmie _quick-union_, aby połączyć elementy $p$ i $q$ należy ustawić $id$ korzenia $q$ pod adres korzenia elementu $p$.\n",
    "Uwaga. Zakładamy, że $p$ < $q$.\n",
    "Można to zapisać jako: `id[root(p)] = root(q)`.\n",
    "Nasze pierwsze połączenie (A) to 4 z 2.\n",
    "Po tej operacji sytuacja będzie wyglądać następująco:\n",
    "\n",
    "    ![Indeksacja - przykład 3_1](https://raw.githubusercontent.com/vision-agh/poc_sw/master/13_CCL/cclEx3_union2.png)\n",
    "\n",
    "W tym przypadku korzenieniem obu elementów są same elementy, zatem operacja jest dość prosta.\n",
    "\n",
    "- Kolejny krok tj. połączenie  2 z 1 -  sytuacja B:\n",
    "\n",
    "    ![Indeksacja - przykład 3_2](https://raw.githubusercontent.com/vision-agh/poc_sw/master/13_CCL/cclEx3_union3.png)\n",
    "\n",
    "Element 1 jest korzeniem.\n",
    "Element 2 już nie, ponieważ `id[2]==4`.\n",
    "Sprawdzamy zatem `id[4]`.\n",
    "Okazuje się, że `id[4] == 4` tj. jest to korzeń.\n",
    "Zatem korzeniem dla elementu 2 jest 4.\n",
    "Dokonujemy stosownej modyfikacji w tablicy `id[1] = 4`.\n",
    "\n",
    "-  Kolejne połączenie to 6 z 3 (C):\n",
    "\n",
    "    ![Indeksacja - przykład 3_3](https://raw.githubusercontent.com/vision-agh/poc_sw/master/13_CCL/cclEx3_union4.png)\n",
    "\n",
    "- Kolejne połączenie to 5 z 1.\n",
    "\n",
    "    ![Indeksacja - przykład 3_4](https://raw.githubusercontent.com/vision-agh/poc_sw/master/13_CCL/cclEx3_union5.png)\n",
    "\n",
    "Szukamy korzenia elementu 1.\n",
    "Znajdujemy, że to jest 4.\n",
    "Zatem łączymy 5 i 4.\n",
    "\n",
    "- Ostatnie połączenie to 6 z 5.\n",
    "\n",
    "   ![Indeksacja - przykład 3_5](https://raw.githubusercontent.com/vision-agh/poc_sw/master/13_CCL/cclEx3_union6.png)\n",
    "\n",
    "-  Ostatni krok to wykorzystanie informacji zawartej w tablicy `id` do wyznaczenia przekodowania LUT (ang. _look-up table_), które pozwoli nam nadać poprawne etykiety wszystkim pikselom.\n",
    "      Zasadniczo sprowadza się on do obliczenia dla każdej możliwej etykiety jej korzenia.\n",
    "      W naszym przypadku zawsze otrzymamy 6, gdyż wszystkie piksele są ze sobą połączone i stanowią jeden obiekt."
   ]
  },
  {
   "cell_type": "markdown",
   "metadata": {
    "id": "dltj-eOsNxRN",
    "pycharm": {
     "name": "#%% md\n"
    }
   },
   "source": [
    "## Implementacja:\n",
    "\n",
    "- Implementacja jest dużo prostsza i krótsza od powyższego opisu.\n",
    "  Istotne jest tylko dobre zrozumienie algorytmu _union-find_.\n",
    "\n",
    "- Potrzebne będą nam dwie funkcje pomocnicze:\n",
    "\n",
    "    - `root` - obliczanie korzenia zgodnie z podanym opisem (odpowiednia pętla `while`). Funkcja pobiera indeks elementu oraz tablicę, a zwraca indeks korzenia.\n",
    "    - `union` - realizacja operacji unii. Argumenty to indeksy `p` i `q` oraz tablica, a wyniki to zmodyfikowana tablica.\n",
    "\n",
    "- Na początku, przed pierwszym przebiegiem algorytmu indeksacji, tworzymy tablicę `id` i inicjujemy ją wartościami od 1 do $N$.\n",
    "  Dla rozważanego przykładu wystarczy $N = 100$.\n",
    "\n",
    "- Następnie, w przypadku wystąpienia konfliktu (przypadek ()c)), tworzymy unię pomiędzy etykietą mniejszą i większą.\n",
    "\n",
    "- Po pierwszym przebiegu tworzymy, w opisany powyżej sposób, przekodowanie LUT (pętla po `id` i funkcja `root`). Powstaje nam tablica `lut`.\n",
    "\n",
    "- Implementujemy drugi przebieg po obrazie.\n",
    "  Jest on bardzo prosty.\n",
    "  Dla każdego piksela, który nie jest tłem (o etykiecie większej od 0) realizujemy przekodowanie LUT (`lut_table[img[j, i] - 1]`).\n",
    "  Otrzymany w ten sposób obraz wyświetlamy.\n",
    "  Powinniśmy uzyskać poprawne etykietowanie."
   ]
  },
  {
   "cell_type": "code",
   "execution_count": 68,
   "metadata": {},
   "outputs": [],
   "source": [
    "ids = [3,3,5,4,5,5]"
   ]
  },
  {
   "cell_type": "code",
   "execution_count": 89,
   "metadata": {},
   "outputs": [
    {
     "data": {
      "text/plain": [
       "5"
      ]
     },
     "execution_count": 89,
     "metadata": {},
     "output_type": "execute_result"
    }
   ],
   "source": [
    "root(ids,5)"
   ]
  },
  {
   "cell_type": "code",
   "execution_count": 98,
   "metadata": {
    "id": "Rwa7En_GQDXF"
   },
   "outputs": [],
   "source": [
    "# Zmodyfikuj (rozszerz) wcześniejszy kod \n",
    "\n",
    "def root(A, i):\n",
    "    while i != A[i]:\n",
    "        i = A[i]\n",
    "        \n",
    "    return i\n",
    "\n",
    "def union(A, p, q):\n",
    "    if p < q:\n",
    "        A[root(A, p)] = root(A, q)\n",
    "    else:\n",
    "        raise Exception('wrong arguments: p should be less than q (p < q)')\n",
    "        \n",
    "\n",
    "def first_pass_extended(image):\n",
    "    L = 1\n",
    "    ids = [i for i in range(100)]\n",
    "    \n",
    "    for i in range(1, image.shape[0]):\n",
    "        for j in range(1, image.shape[1] - 1):\n",
    "            if image[i, j]:\n",
    "                neighbors = [image[i-1,j-1],image[i-1,j],image[i-1,j+1],image[i,j-1]]\n",
    "                \n",
    "                if np.sum(neighbors) == 0:\n",
    "                    #case a\n",
    "                    image[i, j] = L\n",
    "                    L += 1\n",
    "                else:\n",
    "                    #case b,c\n",
    "                    neighbors = list(filter(lambda x: x != 0, neighbors))\n",
    "                    n_min = np.min(neighbors)\n",
    "                    n_max = np.max(neighbors)\n",
    "                    \n",
    "                    if n_min == n_max:\n",
    "                        #case b\n",
    "                        image[i, j] = n_min\n",
    "                        \n",
    "                    else:\n",
    "                        #case c\n",
    "                        image[i, j] = n_min\n",
    "                        union(ids, n_min, n_max)\n",
    "                        \n",
    "    lut = [root(ids, i) for i in ids]            \n",
    "    \n",
    "    for i in range(1, image.shape[0]):\n",
    "        for j in range(1, image.shape[1] - 1):\n",
    "            if image[i, j]:\n",
    "                image[i, j] = lut[image[i, j]]"
   ]
  },
  {
   "cell_type": "code",
   "execution_count": 102,
   "metadata": {},
   "outputs": [
    {
     "data": {
      "text/plain": [
       "Text(0.5, 1.0, 'Obraz po indeksacji własnej')"
      ]
     },
     "execution_count": 102,
     "metadata": {},
     "output_type": "execute_result"
    },
    {
     "data": {
      "image/png": "[encoded data removed]",
      "text/plain": [
       "<Figure size 432x288 with 1 Axes>"
      ]
     },
     "metadata": {
      "needs_background": "light"
     },
     "output_type": "display_data"
    }
   ],
   "source": [
    "ccl1_image = cv2.imread('ccl1.png', cv2.IMREAD_GRAYSCALE)\n",
    "first_pass_extended(ccl1_image)\n",
    "plt.imshow(ccl1_image)\n",
    "plt.title(\"Obraz po indeksacji własnej\")"
   ]
  },
  {
   "cell_type": "markdown",
   "metadata": {
    "id": "2eKFBnwYNxRO",
    "pycharm": {
     "name": "#%% md\n"
    }
   },
   "source": [
    "## Indeksacja wbudowana w OpenCV\n",
    "\n",
    "W OpenCV dostępna jest funkcja `connectedComponents`, która pozwala wykonać indeksację.\n",
    "Proszę sprawdzić jej działanie na używanym wcześniej obrazie."
   ]
  },
  {
   "cell_type": "code",
   "execution_count": 105,
   "metadata": {
    "id": "1gv601hbNxRP",
    "pycharm": {
     "name": "#%%\n"
    }
   },
   "outputs": [],
   "source": [
    "# Indeksacja wbudowana w OpenCV\n",
    "ccl1_cv2indexed = cv2.connectedComponents(cv2.imread('ccl1.png', cv2.IMREAD_GRAYSCALE))"
   ]
  },
  {
   "cell_type": "code",
   "execution_count": 106,
   "metadata": {},
   "outputs": [
    {
     "data": {
      "text/plain": [
       "Text(0.5, 1.0, 'Obraz po indeksacji bibliotecznej')"
      ]
     },
     "execution_count": 106,
     "metadata": {},
     "output_type": "execute_result"
    },
    {
     "data": {
      "image/png": "[encoded data removed]",
      "text/plain": [
       "<Figure size 432x288 with 1 Axes>"
      ]
     },
     "metadata": {
      "needs_background": "light"
     },
     "output_type": "display_data"
    }
   ],
   "source": [
    "plt.imshow(ccl1_cv2indexed[1])\n",
    "plt.title(\"Obraz po indeksacji bibliotecznej\")"
   ]
  },
  {
   "cell_type": "markdown",
   "metadata": {
    "id": "rUG2VjHINxRQ"
   },
   "source": [
    "## Rozpoznawanie obiektów z wykorzystaniem współczynników kształtu\n",
    "\n",
    "Współczynniki kształtu są pewnymi parametrami liczbowymi opisującymi kształt obiektu.\n",
    "Pozwala to na użycie ich do automatycznego rozpoznawania obiektów.\n",
    "Teoretycznie współczynniki kształtu (dobre) powinny być niezależne od zmiany położenia obiektu, jego orientacji i wielkości.\n",
    "W praktyce okazuje się jednak, że wartości współczynników zmieniają się w pewnym zakresie nawet dla obiektów należących do tych samych klas (te same kształty - przykład obracany kwadrat).\n",
    "Wynika z tego konieczność uwzględnienia pewnej tolerancji wartości współczynników kształtu wykorzystywanych w praktycznych zastosowaniach analizy i rozpoznawania obrazu.\n",
    "\n",
    "# Implementacja dla obrazu sztucznego\n",
    "\n",
    "- Wczytaj obraz _shapes.png_.\n",
    "  Wyświetl go.\n",
    "  Pierwszym etapem zadania będzie wybranie współczynników kształtu i przedziałów ich wartości - takich, które pozwolą na wykrycie konkretnych kształtów.\n",
    "  Do wyboru jest kwadrat lub krzyżyk (koło jest zbyt łatwe).\n",
    "\n",
    "- Obok ''klasycznych'' współczynników kształtu tj. Blair-Bliss, Malinowskiej, Haralick, występują współczynniki będące pochodnymi momentów geometrycznych tzn. momenty Hu [https://en.wikipedia.org/wiki/Image_moment]. Wykorzystamy je w naszym ćwiczeniu.\n",
    "\n",
    "- Pierwszy krok to indeksacja obrazu - poznana funkcja `connectedComponents`.\n",
    "- Następnie w pętli, dla kolejnych obiektów wyznaczamy współczynniki Hu.\n",
    "    - po pierwsze należy ''wybrać'' z obrazu dany obiekt np. `I = (ccl == s)*1` oraz `I = I.astype('uint8')`\n",
    "    - po drugie obliczyć momenty geometryczne - `cv2.moments(I)`\n",
    "    - po trzecie, na podstawie momentów, obliczyć momentu Hu `cv2.HuMoments(moments)`\n",
    "- Mając wyznaczone współczynniki musimy jest przeanalizować. W tym celu dobrze ja jakoś wyświetlić w postaci macierzy - proszę to rozwiązać samodzielnie.\n",
    "\n",
    "- Na podstawie analizy należy wybrać próg (jeden lub więcej) i zrealizować stosowną filtrację tj. usunąć ''niechciane'' kształty.\n",
    "\n"
   ]
  },
  {
   "cell_type": "code",
   "execution_count": 110,
   "metadata": {
    "id": "6Wg7RXToNxRR",
    "pycharm": {
     "name": "#%%\n"
    }
   },
   "outputs": [],
   "source": [
    "# Rozpoznawanie obiektów sztucznych\n",
    "\n",
    "image_shapes = cv2.imread('shapes.png', cv2.IMREAD_GRAYSCALE)"
   ]
  },
  {
   "cell_type": "code",
   "execution_count": 111,
   "metadata": {},
   "outputs": [
    {
     "data": {
      "text/plain": [
       "<matplotlib.image.AxesImage at 0x7fbe001a0790>"
      ]
     },
     "execution_count": 111,
     "metadata": {},
     "output_type": "execute_result"
    },
    {
     "data": {
      "image/png": "[encoded data removed]",
      "text/plain": [
       "<Figure size 432x288 with 1 Axes>"
      ]
     },
     "metadata": {
      "needs_background": "light"
     },
     "output_type": "display_data"
    }
   ],
   "source": [
    "plt.imshow(image_shapes)"
   ]
  },
  {
   "cell_type": "code",
   "execution_count": 118,
   "metadata": {},
   "outputs": [],
   "source": [
    "shapes_count, shapes_indexed = cv2.connectedComponents(image_shapes)"
   ]
  },
  {
   "cell_type": "code",
   "execution_count": 120,
   "metadata": {},
   "outputs": [],
   "source": [
    "hu = []\n",
    "for i in range(shapes_count):\n",
    "    I = (shapes_indexed == i).astype('uint8')\n",
    "    moments = cv2.moments(I)\n",
    "    hu.append(cv2.HuMoments(moments))"
   ]
  },
  {
   "cell_type": "code",
   "execution_count": 121,
   "metadata": {},
   "outputs": [
    {
     "data": {
      "text/plain": [
       "[array([[ 2.39425643e-01],\n",
       "        [ 2.93254434e-05],\n",
       "        [ 4.78556370e-05],\n",
       "        [ 1.50766054e-04],\n",
       "        [ 9.69371397e-09],\n",
       "        [-8.06208113e-07],\n",
       "        [-8.36850601e-09]]),\n",
       " array([[ 2.50203915e-01],\n",
       "        [ 2.30928490e-09],\n",
       "        [ 2.31959783e-05],\n",
       "        [ 1.47326898e-06],\n",
       "        [ 8.61250351e-12],\n",
       "        [ 7.07979694e-11],\n",
       "        [-0.00000000e+00]]),\n",
       " array([[ 2.57949086e-01],\n",
       "        [ 1.08977954e-06],\n",
       "        [ 2.86216549e-05],\n",
       "        [ 1.77622893e-06],\n",
       "        [ 1.26306067e-11],\n",
       "        [-1.85400651e-09],\n",
       "        [ 9.29001241e-13]]),\n",
       " array([[ 2.57059062e-01],\n",
       "        [ 1.50261870e-07],\n",
       "        [ 2.73926132e-05],\n",
       "        [ 1.73732679e-06],\n",
       "        [ 1.19840998e-11],\n",
       "        [-6.73378794e-10],\n",
       "        [-1.49054457e-13]]),\n",
       " array([[ 1.59154823e-01],\n",
       "        [ 3.16293019e-08],\n",
       "        [ 8.22063073e-10],\n",
       "        [ 7.36340238e-14],\n",
       "        [-3.49346150e-25],\n",
       "        [ 1.15762234e-17],\n",
       "        [ 4.54047248e-25]]),\n",
       " array([[ 1.59155875e-01],\n",
       "        [ 1.30608986e-07],\n",
       "        [ 9.50757712e-09],\n",
       "        [ 3.34678821e-13],\n",
       "        [-1.33716838e-24],\n",
       "        [-5.82882778e-17],\n",
       "        [ 1.88315111e-23]]),\n",
       " array([[ 1.66692179e-01],\n",
       "        [ 2.37382411e-06],\n",
       "        [ 6.35596477e-10],\n",
       "        [ 5.31257420e-11],\n",
       "        [ 4.01564380e-21],\n",
       "        [-5.99781462e-14],\n",
       "        [-8.89805575e-21]]),\n",
       " array([[ 1.66718427e-01],\n",
       "        [ 1.50054250e-06],\n",
       "        [ 2.85079199e-09],\n",
       "        [ 1.86840551e-10],\n",
       "        [ 1.08808452e-19],\n",
       "        [-6.24180209e-15],\n",
       "        [ 8.21887031e-20]]),\n",
       " array([[1.66659964e-01],\n",
       "        [2.23442217e-06],\n",
       "        [0.00000000e+00],\n",
       "        [0.00000000e+00],\n",
       "        [0.00000000e+00],\n",
       "        [0.00000000e+00],\n",
       "        [0.00000000e+00]])]"
      ]
     },
     "execution_count": 121,
     "metadata": {},
     "output_type": "execute_result"
    }
   ],
   "source": [
    "hu"
   ]
  },
  {
   "cell_type": "code",
   "execution_count": null,
   "metadata": {},
   "outputs": [],
   "source": []
  },
  {
   "cell_type": "markdown",
   "metadata": {
    "id": "2JpZ3hquNxRR"
   },
   "source": [
    "# Implementacja dla obrazu rzeczywistego\n",
    "\n",
    "- Podobne ćwiczenie należy zrealizować dla obrazu rzeczywistego _shapesReal.png_.\n",
    "- Uwaga. Wykorzystując poznane metody przetwarzania obrazu doprowadź obraz do postaci binarnej (usuń ew. zakłócenia itp.).\n",
    "- Uwagi:\n",
    "    - należy z obrazu wyeliminować małe grupki pikseli - tak aby nie zostały poindeksowane,\n",
    "    - obiektów powinno być 13,\n",
    "    - może się okazać, że zajdzie potrzeba modyfikacji warunków na współczynniki albo wręcz wprowadzenia dodatkowych współczynników.\n",
    "    - warto zaznaczyć, że opisane podejście tj. ''ręczne'' wyznaczanie przedziałów parametrów stosuje się tylko do bardzo prostych problemów. W rzeczywistych aplikacjach rozpoznawania obrazu stosuje się tzw. uczenie maszynowe i klasyfikatory typu sztuczne sieci neuronowe, algorytm k-NN, czy SVM.\n",
    "\n",
    "- Sposób postępowania jest zasadniczo bardzo podobny do tego użytego wcześniej. Przy czym, ponieważ obiektów jest więcej, warto je sobie ''opisać'' - ułatwia to analizę:\n",
    "    - użyjemy funkcji `connectedComponentsWithStats` - pozwala ona wyliczyć statystyki (pole, prostokąt otaczający oraz centroid). Szczegóły użycia proszę sprawdzić w dokumentacji,\n",
    "    - wykonujemy kopię obrazu poindeksowanego (`ccl_vis = ccl.copy()`),\n",
    "    - w pętli po obiektach wypisujemy numery:\n",
    "      `cv2.putText(ccl_vis,str(label_num),(int(centroids[s,0]),int(centroids[s,1])),cv2.FONT_HERSHEY_SIMPLEX,1,(20,0,0),2)`\n",
    "      Argumenty to odpowiednio: obraz, tekst, jego położenie, czcionka, rozmiar, kolor, grubość).\n",
    "      Zwracam uwagę na kolor, tu dobrze jest dać wartość nieco większą niż maksymalna etykieta.\n",
    "      Inaczej wystąpi problem z czytelnością wizualizacji.\n",
    "\n",
    "- Przeprowadzamy podobną analizę jak wcześniej i dobieramy odpowiednie warunki/progi.\n",
    "- W efekcie powinniśmy uzyskać obraz z krzyżykami, kwadratami lub kółkami."
   ]
  },
  {
   "cell_type": "code",
   "execution_count": null,
   "metadata": {
    "id": "va07zRCCNxRS",
    "pycharm": {
     "name": "#%%\n"
    }
   },
   "outputs": [],
   "source": [
    "# Rozpoznawanie obiektów rzeczywistych\n",
    "\n"
   ]
  }
 ],
 "metadata": {
  "colab": {
   "name": "11_ccl.ipynb",
   "provenance": []
  },
  "kernelspec": {
   "display_name": "Python 3 (ipykernel)",
   "language": "python",
   "name": "python3"
  },
  "language_info": {
   "codemirror_mode": {
    "name": "ipython",
    "version": 3
   },
   "file_extension": ".py",
   "mimetype": "text/x-python",
   "name": "python",
   "nbconvert_exporter": "python",
   "pygments_lexer": "ipython3",
   "version": "3.9.7"
  }
 },
 "nbformat": 4,
 "nbformat_minor": 1
}
